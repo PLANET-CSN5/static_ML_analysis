{
 "cells": [
  {
   "cell_type": "code",
   "execution_count": 15,
   "metadata": {
    "scrolled": true
   },
   "outputs": [
    {
     "name": "stderr",
     "output_type": "stream",
     "text": [
      "/usr/lib/python3/dist-packages/IPython/core/interactiveshell.py:3062: DtypeWarning: Columns (0,13,14) have mixed types. Specify dtype option on import or set low_memory=False.\n",
      "  has_raised = await self.run_ast_nodes(code_ast.body, cell_name,\n"
     ]
    }
   ],
   "source": [
    "import pandas as pd \n",
    "\n",
    "data = pd.read_csv(\"popolazione2020.csv\", sep=\"|\")"
   ]
  },
  {
   "cell_type": "code",
   "execution_count": 19,
   "metadata": {},
   "outputs": [
    {
     "name": "stdout",
     "output_type": "stream",
     "text": [
      "['Y58', 'Y56', 'Y83', 'Y8', 'Y90', 'Y69', 'Y6', 'Y63', 'Y99', 'Y35', 'Y17', 'Y75', 'Y13', 'Y72', 'Y4', 'Y74', 'Y80', 'Y9', 'Y32', 'Y11', 'Y34', 'Y73', 'Y68', 'TOTAL', 'Y2', 'Y55', 'Y51', 'Y92', 'Y5', 'Y49', 'Y91', 'Y12', 'Y10', 'Y57', 'Y7', 'Y59', 'Y97', 'Y94', 'Y36', 'Y76', 'Y50', 'Y15', 'Y52', 'Y48', 'Y38', 'Y98', 'Y23', 'Y3', 'Y0', 'Y24', 'Y66', 'Y42', 'Y77', 'Y29', 'Y53', 'Y79', 'Y37', 'Y62', 'Y89', 'Y1', 'Y87', 'Y21', 'Y18', 'Y25', 'Y16', 'Y85', 'Y81', 'Y22', 'Y78', 'Y45', 'Y65', 'Y70', 'Y20', 'Y44', 'Y41', 'Y31', 'Y60', 'Y96', 'Y39', 'Y71', 'Y84', 'Y88', 'Y93', 'Y_GE100', 'Y54', 'Y40', 'Y46', 'Y47', 'Y43', 'Y67', 'Y27', 'Y86', 'Y14', 'Y28', 'Y61', 'Y64', 'Y33', 'Y82', 'Y30', 'Y95', 'Y26', 'Y19']\n"
     ]
    }
   ],
   "source": [
    "listaeta = list(set(data[\"ETA1\"].values))\n",
    "print(listaeta)"
   ]
  },
  {
   "cell_type": "code",
   "execution_count": 21,
   "metadata": {},
   "outputs": [
    {
     "name": "stdout",
     "output_type": "stream",
     "text": [
      "Index(['ITTER107', 'Territorio', 'TIPO_DATO15',\n",
      "       'Tipo di indicatore demografico', 'SEXISTAT1', 'Sesso', 'ETA1', 'Età',\n",
      "       'STATCIV2', 'Stato civile', 'TIME', 'Seleziona periodo', 'Value',\n",
      "       'Flag Codes', 'Flags'],\n",
      "      dtype='object')\n"
     ]
    }
   ],
   "source": [
    "print(data.columns)"
   ]
  },
  {
   "cell_type": "code",
   "execution_count": 23,
   "metadata": {},
   "outputs": [],
   "source": [
    "torino = data[data[\"Territorio\"] == \"Torino\"]"
   ]
  },
  {
   "cell_type": "code",
   "execution_count": 24,
   "metadata": {},
   "outputs": [
    {
     "name": "stdout",
     "output_type": "stream",
     "text": [
      "        ITTER107 Territorio TIPO_DATO15 Tipo di indicatore demografico  \\\n",
      "5459567   001272     Torino         JAN      popolazione al 1º gennaio   \n",
      "5459572   001272     Torino         JAN      popolazione al 1º gennaio   \n",
      "5459577   001272     Torino         JAN      popolazione al 1º gennaio   \n",
      "5473941    ITC11     Torino         JAN      popolazione al 1º gennaio   \n",
      "5473946    ITC11     Torino         JAN      popolazione al 1º gennaio   \n",
      "5473951    ITC11     Torino         JAN      popolazione al 1º gennaio   \n",
      "\n",
      "         SEXISTAT1    Sesso ETA1      Età  STATCIV2 Stato civile  TIME  \\\n",
      "5459567          1   maschi  Y57  57 anni        99       totale  2020   \n",
      "5459572          2  femmine  Y57  57 anni        99       totale  2020   \n",
      "5459577          9   totale  Y57  57 anni        99       totale  2020   \n",
      "5473941          1   maschi  Y57  57 anni        99       totale  2020   \n",
      "5473946          2  femmine  Y57  57 anni        99       totale  2020   \n",
      "5473951          9   totale  Y57  57 anni        99       totale  2020   \n",
      "\n",
      "         Seleziona periodo    Value Flag Codes Flags  \n",
      "5459567               2020   5828.0        NaN   NaN  \n",
      "5459572               2020   6448.0        NaN   NaN  \n",
      "5459577               2020  12276.0        NaN   NaN  \n",
      "5473941               2020  15744.0        NaN   NaN  \n",
      "5473946               2020  17142.0        NaN   NaN  \n",
      "5473951               2020  32886.0        NaN   NaN  \n"
     ]
    }
   ],
   "source": [
    "torino57 = torino[torino[\"ETA1\"] == \"Y57\"]\n",
    "torinoTOTAL = torino[torino[\"ETA1\"] == \"TOTAL\"]\n",
    "print(torino57[torino57[\"Stato civile\"] == \"totale\"])"
   ]
  },
  {
   "cell_type": "code",
   "execution_count": 25,
   "metadata": {},
   "outputs": [
    {
     "name": "stdout",
     "output_type": "stream",
     "text": [
      "         ITTER107 Territorio TIPO_DATO15 Tipo di indicatore demografico  \\\n",
      "10597929    ITC11     Torino         JAN      popolazione al 1º gennaio   \n",
      "10597934    ITC11     Torino         JAN      popolazione al 1º gennaio   \n",
      "10597939    ITC11     Torino         JAN      popolazione al 1º gennaio   \n",
      "10599870   001272     Torino         JAN      popolazione al 1º gennaio   \n",
      "10599874   001272     Torino         JAN      popolazione al 1º gennaio   \n",
      "10613632   001272     Torino         JAN      popolazione al 1º gennaio   \n",
      "\n",
      "          SEXISTAT1    Sesso   ETA1     Età  STATCIV2 Stato civile  TIME  \\\n",
      "10597929          1   maschi  TOTAL  totale        99       totale  2020   \n",
      "10597934          2  femmine  TOTAL  totale        99       totale  2020   \n",
      "10597939          9   totale  TOTAL  totale        99       totale  2020   \n",
      "10599870          1   maschi  TOTAL  totale        99       totale  2020   \n",
      "10599874          9   totale  TOTAL  totale        99       totale  2020   \n",
      "10613632          2  femmine  TOTAL  totale        99       totale  2020   \n",
      "\n",
      "          Seleziona periodo      Value Flag Codes Flags  \n",
      "10597929               2020  1079491.0        NaN   NaN  \n",
      "10597934               2020  1151455.0        NaN   NaN  \n",
      "10597939               2020  2230946.0        NaN   NaN  \n",
      "10599870               2020   409442.0        NaN   NaN  \n",
      "10599874               2020   857910.0        NaN   NaN  \n",
      "10613632               2020   448468.0        NaN   NaN  \n"
     ]
    }
   ],
   "source": [
    "print(torinoTOTAL[torinoTOTAL[\"Stato civile\"] == \"totale\"])"
   ]
  },
  {
   "cell_type": "code",
   "execution_count": 27,
   "metadata": {},
   "outputs": [
    {
     "name": "stdout",
     "output_type": "stream",
     "text": [
      "         ITTER107 Territorio TIPO_DATO15 Tipo di indicatore demografico  \\\n",
      "10598964    ITE21    Perugia         JAN      popolazione al 1º gennaio   \n",
      "10598969    ITE21    Perugia         JAN      popolazione al 1º gennaio   \n",
      "10598974    ITE21    Perugia         JAN      popolazione al 1º gennaio   \n",
      "10600430   054039    Perugia         JAN      popolazione al 1º gennaio   \n",
      "10600435   054039    Perugia         JAN      popolazione al 1º gennaio   \n",
      "10600440   054039    Perugia         JAN      popolazione al 1º gennaio   \n",
      "\n",
      "          SEXISTAT1    Sesso   ETA1     Età  STATCIV2 Stato civile  TIME  \\\n",
      "10598964          1   maschi  TOTAL  totale        99       totale  2020   \n",
      "10598969          2  femmine  TOTAL  totale        99       totale  2020   \n",
      "10598974          9   totale  TOTAL  totale        99       totale  2020   \n",
      "10600430          1   maschi  TOTAL  totale        99       totale  2020   \n",
      "10600435          2  femmine  TOTAL  totale        99       totale  2020   \n",
      "10600440          9   totale  TOTAL  totale        99       totale  2020   \n",
      "\n",
      "          Seleziona periodo     Value Flag Codes Flags  \n",
      "10598964               2020  312637.0        NaN   NaN  \n",
      "10598969               2020  334073.0        NaN   NaN  \n",
      "10598974               2020  646710.0        NaN   NaN  \n",
      "10600430               2020   79198.0        NaN   NaN  \n",
      "10600435               2020   85682.0        NaN   NaN  \n",
      "10600440               2020  164880.0        NaN   NaN  \n"
     ]
    }
   ],
   "source": [
    "perugia = data[data[\"Territorio\"] == \"Perugia\"]\n",
    "perugiaTOTAL = perugia[perugia[\"ETA1\"] == \"TOTAL\"]\n",
    "print(perugiaTOTAL[perugiaTOTAL[\"Stato civile\"] == \"totale\"])"
   ]
  },
  {
   "cell_type": "code",
   "execution_count": 36,
   "metadata": {},
   "outputs": [
    {
     "name": "stdout",
     "output_type": "stream",
     "text": [
      "[3265327.]\n"
     ]
    }
   ],
   "source": [
    "citta = \"Milano\"\n",
    "cita = data[data[\"Territorio\"] == citta]\n",
    "citaTOTAL = cita[cita[\"ETA1\"] == \"TOTAL\"]\n",
    "MFcitaTOTAL = citaTOTAL[citaTOTAL[\"Sesso\"] == \"totale\"]\n",
    "final = MFcitaTOTAL[MFcitaTOTAL[\"Stato civile\"] == \"totale\"]\n",
    "results = final[final.ITTER107.str.contains(\"IT\")]\n",
    "print(results[\"Value\"].values)"
   ]
  },
  {
   "cell_type": "code",
   "execution_count": 29,
   "metadata": {},
   "outputs": [
    {
     "name": "stdout",
     "output_type": "stream",
     "text": [
      "811590.0\n"
     ]
    }
   ],
   "source": [
    "c = 646710.0+164880.0\n",
    "print(c)"
   ]
  },
  {
   "cell_type": "code",
   "execution_count": 13,
   "metadata": {},
   "outputs": [
    {
     "name": "stdout",
     "output_type": "stream",
     "text": [
      "depriv 0.3870967741935484\n",
      "avg_wnh3_period1_2020 20.008602150537634\n",
      "avg_wpans_period1_2020 0.2236559139784946\n",
      "commutersdensity 11.526881720430108\n",
      "avg_wo3_period1_2020 14.38279569892473\n",
      "sum_wno2_ex_q75_period1_2020 0.025806451612903226\n",
      "lat 51.965591397849465\n",
      "avg_wso2_period1_2020 0.3010752688172043\n",
      "avg_wno_period1_2020 1.178494623655914\n"
     ]
    }
   ],
   "source": [
    "#value from paper 2259523\n",
    "\n",
    "fp = open(\"results_2020_9_12_x_to_2020_10_15.txt\")\n",
    "\n",
    "firstfeat = []\n",
    "firstfeatset = set()\n",
    "secondfeat = []\n",
    "secondfeatset = set()\n",
    "for l in fp:\n",
    "    sl = l.split(\",\")\n",
    "    if len(sl) == 6:\n",
    "        #print(sl[-2], sl[-1])\n",
    "        firstfeat.append(sl[-2].split()[0])\n",
    "        firstfeatset.add(sl[-2].split()[0])\n",
    "        secondfeat.append(sl[-2].split()[1])\n",
    "        secondfeatset.add(sl[-2].split()[1])\n",
    "\n",
    "fp.close()\n",
    "\n",
    "for v in firstfeatset:\n",
    "    print(v, 100.0 * (firstfeat.count(v)/len(firstfeat)))"
   ]
  }
 ],
 "metadata": {
  "kernelspec": {
   "display_name": "Python 3",
   "language": "python",
   "name": "python3"
  },
  "language_info": {
   "codemirror_mode": {
    "name": "ipython",
    "version": 3
   },
   "file_extension": ".py",
   "mimetype": "text/x-python",
   "name": "python",
   "nbconvert_exporter": "python",
   "pygments_lexer": "ipython3",
   "version": "3.8.10"
  }
 },
 "nbformat": 4,
 "nbformat_minor": 2
}
