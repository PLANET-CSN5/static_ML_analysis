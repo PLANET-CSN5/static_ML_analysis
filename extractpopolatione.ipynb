{
 "cells": [
  {
   "cell_type": "code",
   "execution_count": 1,
   "metadata": {
    "scrolled": true
   },
   "outputs": [
    {
     "name": "stderr",
     "output_type": "stream",
     "text": [
      "/usr/lib/python3/dist-packages/IPython/core/interactiveshell.py:3062: DtypeWarning: Columns (0,13,14) have mixed types.Specify dtype option on import or set low_memory=False.\n",
      "  has_raised = await self.run_ast_nodes(code_ast.body, cell_name,\n"
     ]
    }
   ],
   "source": [
    "import pandas as pd \n",
    "\n",
    "data = pd.read_csv(\"popolazione2020.csv\", sep=\"|\")"
   ]
  },
  {
   "cell_type": "code",
   "execution_count": 2,
   "metadata": {},
   "outputs": [
    {
     "name": "stdout",
     "output_type": "stream",
     "text": [
      "['Y47', 'Y5', 'Y6', 'Y1', 'Y46', 'Y2', 'Y8', 'Y60', 'Y95', 'Y7', 'Y58', 'Y42', 'Y35', 'Y81', 'Y4', 'Y38', 'Y11', 'Y16', 'Y80', 'Y98', 'Y_GE100', 'Y74', 'Y73', 'Y97', 'Y39', 'Y63', 'Y53', 'Y99', 'Y34', 'Y19', 'Y56', 'Y62', 'Y71', 'Y55', 'Y65', 'Y93', 'Y12', 'Y50', 'Y22', 'Y23', 'Y72', 'Y13', 'Y15', 'Y59', 'Y36', 'Y25', 'Y37', 'Y33', 'TOTAL', 'Y52', 'Y44', 'Y10', 'Y83', 'Y87', 'Y51', 'Y29', 'Y20', 'Y94', 'Y86', 'Y61', 'Y28', 'Y54', 'Y32', 'Y90', 'Y41', 'Y9', 'Y85', 'Y0', 'Y67', 'Y14', 'Y17', 'Y24', 'Y68', 'Y43', 'Y27', 'Y3', 'Y76', 'Y82', 'Y92', 'Y26', 'Y69', 'Y64', 'Y57', 'Y21', 'Y40', 'Y66', 'Y31', 'Y18', 'Y70', 'Y89', 'Y30', 'Y49', 'Y79', 'Y78', 'Y96', 'Y77', 'Y75', 'Y48', 'Y91', 'Y45', 'Y84', 'Y88']\n"
     ]
    }
   ],
   "source": [
    "listaeta = list(set(data[\"ETA1\"].values))\n",
    "print(listaeta)"
   ]
  },
  {
   "cell_type": "code",
   "execution_count": 3,
   "metadata": {},
   "outputs": [
    {
     "name": "stdout",
     "output_type": "stream",
     "text": [
      "Index(['ITTER107', 'Territorio', 'TIPO_DATO15',\n",
      "       'Tipo di indicatore demografico', 'SEXISTAT1', 'Sesso', 'ETA1', 'Età',\n",
      "       'STATCIV2', 'Stato civile', 'TIME', 'Seleziona periodo', 'Value',\n",
      "       'Flag Codes', 'Flags'],\n",
      "      dtype='object')\n"
     ]
    }
   ],
   "source": [
    "print(data.columns)"
   ]
  },
  {
   "cell_type": "code",
   "execution_count": 4,
   "metadata": {},
   "outputs": [],
   "source": [
    "torino = data[data[\"Territorio\"] == \"Torino\"]"
   ]
  },
  {
   "cell_type": "code",
   "execution_count": 5,
   "metadata": {},
   "outputs": [
    {
     "name": "stdout",
     "output_type": "stream",
     "text": [
      "        ITTER107 Territorio TIPO_DATO15 Tipo di indicatore demografico  \\\n",
      "5459567   001272     Torino         JAN      popolazione al 1º gennaio   \n",
      "5459572   001272     Torino         JAN      popolazione al 1º gennaio   \n",
      "5459577   001272     Torino         JAN      popolazione al 1º gennaio   \n",
      "5473941    ITC11     Torino         JAN      popolazione al 1º gennaio   \n",
      "5473946    ITC11     Torino         JAN      popolazione al 1º gennaio   \n",
      "5473951    ITC11     Torino         JAN      popolazione al 1º gennaio   \n",
      "\n",
      "         SEXISTAT1    Sesso ETA1      Età  STATCIV2 Stato civile  TIME  \\\n",
      "5459567          1   maschi  Y57  57 anni        99       totale  2020   \n",
      "5459572          2  femmine  Y57  57 anni        99       totale  2020   \n",
      "5459577          9   totale  Y57  57 anni        99       totale  2020   \n",
      "5473941          1   maschi  Y57  57 anni        99       totale  2020   \n",
      "5473946          2  femmine  Y57  57 anni        99       totale  2020   \n",
      "5473951          9   totale  Y57  57 anni        99       totale  2020   \n",
      "\n",
      "         Seleziona periodo    Value Flag Codes Flags  \n",
      "5459567               2020   5828.0        NaN   NaN  \n",
      "5459572               2020   6448.0        NaN   NaN  \n",
      "5459577               2020  12276.0        NaN   NaN  \n",
      "5473941               2020  15744.0        NaN   NaN  \n",
      "5473946               2020  17142.0        NaN   NaN  \n",
      "5473951               2020  32886.0        NaN   NaN  \n"
     ]
    }
   ],
   "source": [
    "torino57 = torino[torino[\"ETA1\"] == \"Y57\"]\n",
    "torinoTOTAL = torino[torino[\"ETA1\"] == \"TOTAL\"]\n",
    "print(torino57[torino57[\"Stato civile\"] == \"totale\"])"
   ]
  },
  {
   "cell_type": "code",
   "execution_count": 6,
   "metadata": {},
   "outputs": [
    {
     "name": "stdout",
     "output_type": "stream",
     "text": [
      "         ITTER107 Territorio TIPO_DATO15 Tipo di indicatore demografico  \\\n",
      "10597929    ITC11     Torino         JAN      popolazione al 1º gennaio   \n",
      "10597934    ITC11     Torino         JAN      popolazione al 1º gennaio   \n",
      "10597939    ITC11     Torino         JAN      popolazione al 1º gennaio   \n",
      "10599870   001272     Torino         JAN      popolazione al 1º gennaio   \n",
      "10599874   001272     Torino         JAN      popolazione al 1º gennaio   \n",
      "10613632   001272     Torino         JAN      popolazione al 1º gennaio   \n",
      "\n",
      "          SEXISTAT1    Sesso   ETA1     Età  STATCIV2 Stato civile  TIME  \\\n",
      "10597929          1   maschi  TOTAL  totale        99       totale  2020   \n",
      "10597934          2  femmine  TOTAL  totale        99       totale  2020   \n",
      "10597939          9   totale  TOTAL  totale        99       totale  2020   \n",
      "10599870          1   maschi  TOTAL  totale        99       totale  2020   \n",
      "10599874          9   totale  TOTAL  totale        99       totale  2020   \n",
      "10613632          2  femmine  TOTAL  totale        99       totale  2020   \n",
      "\n",
      "          Seleziona periodo      Value Flag Codes Flags  \n",
      "10597929               2020  1079491.0        NaN   NaN  \n",
      "10597934               2020  1151455.0        NaN   NaN  \n",
      "10597939               2020  2230946.0        NaN   NaN  \n",
      "10599870               2020   409442.0        NaN   NaN  \n",
      "10599874               2020   857910.0        NaN   NaN  \n",
      "10613632               2020   448468.0        NaN   NaN  \n"
     ]
    }
   ],
   "source": [
    "print(torinoTOTAL[torinoTOTAL[\"Stato civile\"] == \"totale\"])"
   ]
  },
  {
   "cell_type": "code",
   "execution_count": 7,
   "metadata": {},
   "outputs": [
    {
     "name": "stdout",
     "output_type": "stream",
     "text": [
      "         ITTER107 Territorio TIPO_DATO15 Tipo di indicatore demografico  \\\n",
      "10598964    ITE21    Perugia         JAN      popolazione al 1º gennaio   \n",
      "10598969    ITE21    Perugia         JAN      popolazione al 1º gennaio   \n",
      "10598974    ITE21    Perugia         JAN      popolazione al 1º gennaio   \n",
      "10600430   054039    Perugia         JAN      popolazione al 1º gennaio   \n",
      "10600435   054039    Perugia         JAN      popolazione al 1º gennaio   \n",
      "10600440   054039    Perugia         JAN      popolazione al 1º gennaio   \n",
      "\n",
      "          SEXISTAT1    Sesso   ETA1     Età  STATCIV2 Stato civile  TIME  \\\n",
      "10598964          1   maschi  TOTAL  totale        99       totale  2020   \n",
      "10598969          2  femmine  TOTAL  totale        99       totale  2020   \n",
      "10598974          9   totale  TOTAL  totale        99       totale  2020   \n",
      "10600430          1   maschi  TOTAL  totale        99       totale  2020   \n",
      "10600435          2  femmine  TOTAL  totale        99       totale  2020   \n",
      "10600440          9   totale  TOTAL  totale        99       totale  2020   \n",
      "\n",
      "          Seleziona periodo     Value Flag Codes Flags  \n",
      "10598964               2020  312637.0        NaN   NaN  \n",
      "10598969               2020  334073.0        NaN   NaN  \n",
      "10598974               2020  646710.0        NaN   NaN  \n",
      "10600430               2020   79198.0        NaN   NaN  \n",
      "10600435               2020   85682.0        NaN   NaN  \n",
      "10600440               2020  164880.0        NaN   NaN  \n"
     ]
    }
   ],
   "source": [
    "perugia = data[data[\"Territorio\"] == \"Perugia\"]\n",
    "perugiaTOTAL = perugia[perugia[\"ETA1\"] == \"TOTAL\"]\n",
    "print(perugiaTOTAL[perugiaTOTAL[\"Stato civile\"] == \"totale\"])"
   ]
  },
  {
   "cell_type": "code",
   "execution_count": 12,
   "metadata": {},
   "outputs": [
    {
     "name": "stdout",
     "output_type": "stream",
     "text": [
      "3265327.0\n"
     ]
    }
   ],
   "source": [
    "citta = \"Milano\"\n",
    "cita = data[data[\"Territorio\"] == citta]\n",
    "citaTOTAL = cita[cita[\"ETA1\"] == \"TOTAL\"]\n",
    "MFcitaTOTAL = citaTOTAL[citaTOTAL[\"Sesso\"] == \"totale\"]\n",
    "final = MFcitaTOTAL[MFcitaTOTAL[\"Stato civile\"] == \"totale\"]\n",
    "results = final[final.ITTER107.str.contains(\"IT\")]\n",
    "popolazione = results[\"Value\"].values[0]\n",
    "print(results[\"Value\"].values[0])"
   ]
  },
  {
   "cell_type": "code",
   "execution_count": 16,
   "metadata": {},
   "outputs": [
    {
     "name": "stdout",
     "output_type": "stream",
     "text": [
      "18.791379852615066\n",
      "60.40332254625647\n",
      "22.83201651779439\n",
      "102.02671891666591\n"
     ]
    }
   ],
   "source": [
    "sum020 = 0.0\n",
    "\n",
    "for i in range (0,21):\n",
    "    val = \"Y\"+str(i)\n",
    "    citaETA = cita[cita[\"ETA1\"] == val]\n",
    "    MFcitaETA = citaETA[citaETA[\"Sesso\"] == \"totale\"]\n",
    "    final = MFcitaETA[MFcitaETA[\"Stato civile\"] == \"totale\"]\n",
    "    results = final[final.ITTER107.str.contains(\"IT\")]\n",
    "    sum020 += results[\"Value\"].values[0]\n",
    "\n",
    "perc020 = 100* (sum020/popolazione)\n",
    "print(perc020)\n",
    "\n",
    "sum2065 = 0.0\n",
    "for i in range (20,66):\n",
    "    val = \"Y\"+str(i)\n",
    "    citaETA = cita[cita[\"ETA1\"] == val]\n",
    "    MFcitaETA = citaETA[citaETA[\"Sesso\"] == \"totale\"]\n",
    "    final = MFcitaETA[MFcitaETA[\"Stato civile\"] == \"totale\"]\n",
    "    results = final[final.ITTER107.str.contains(\"IT\")]\n",
    "    sum2065 += results[\"Value\"].values[0]\n",
    "perc2065 = 100* (sum2065/popolazione)\n",
    "print(perc2065)\n",
    "\n",
    "sum65 = 0.0\n",
    "for i in range (65,100):\n",
    "    val = \"Y\"+str(i)\n",
    "    citaETA = cita[cita[\"ETA1\"] == val]\n",
    "    MFcitaETA = citaETA[citaETA[\"Sesso\"] == \"totale\"]\n",
    "    final = MFcitaETA[MFcitaETA[\"Stato civile\"] == \"totale\"]\n",
    "    results = final[final.ITTER107.str.contains(\"IT\")]\n",
    "    sum65 += results[\"Value\"].values[0]\n",
    "\n",
    "val = \"Y_GE100\"\n",
    "citaETA = cita[cita[\"ETA1\"] == val]\n",
    "MFcitaETA = citaETA[citaETA[\"Sesso\"] == \"totale\"]\n",
    "final = MFcitaETA[MFcitaETA[\"Stato civile\"] == \"totale\"]\n",
    "results = final[final.ITTER107.str.contains(\"IT\")]\n",
    "sum65 += results[\"Value\"].values[0]\n",
    "\n",
    "perc65 = 100* (sum65/popolazione)\n",
    "print(perc65)\n",
    "\n",
    "print(perc020 + perc2065 + perc65)"
   ]
  }
 ],
 "metadata": {
  "kernelspec": {
   "display_name": "Python 3",
   "language": "python",
   "name": "python3"
  },
  "language_info": {
   "codemirror_mode": {
    "name": "ipython",
    "version": 3
   },
   "file_extension": ".py",
   "mimetype": "text/x-python",
   "name": "python",
   "nbconvert_exporter": "python",
   "pygments_lexer": "ipython3",
   "version": "3.8.10"
  }
 },
 "nbformat": 4,
 "nbformat_minor": 2
}
