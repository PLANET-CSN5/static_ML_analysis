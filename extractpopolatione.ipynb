{
 "cells": [
  {
   "cell_type": "code",
   "execution_count": 7,
   "metadata": {
    "scrolled": true
   },
   "outputs": [
    {
     "name": "stderr",
     "output_type": "stream",
     "text": [
      "/usr/lib/python3/dist-packages/IPython/core/interactiveshell.py:2718: DtypeWarning: Columns (0,13,14) have mixed types.Specify dtype option on import or set low_memory=False.\n",
      "  interactivity=interactivity, compiler=compiler, result=result)\n"
     ]
    }
   ],
   "source": [
    "import pandas as pd \n",
    "\n",
    "data = pd.read_csv(\"popolazione2020.csv\", sep=\"|\")"
   ]
  },
  {
   "cell_type": "code",
   "execution_count": 17,
   "metadata": {},
   "outputs": [
    {
     "name": "stdout",
     "output_type": "stream",
     "text": [
      "{'Y57', 'Y85', 'Y40', 'Y91', 'Y18', 'Y80', 'Y5', 'Y48', 'Y46', 'Y54', 'Y73', 'Y9', 'Y89', 'Y35', 'Y77', 'Y32', 'Y55', 'Y62', 'Y29', 'Y86', 'Y21', 'Y1', 'Y24', 'Y79', 'Y47', 'Y34', 'Y90', 'Y96', 'Y19', 'Y53', 'TOTAL', 'Y_GE100', 'Y13', 'Y10', 'Y56', 'Y70', 'Y44', 'Y93', 'Y98', 'Y16', 'Y97', 'Y92', 'Y52', 'Y59', 'Y66', 'Y39', 'Y87', 'Y71', 'Y65', 'Y4', 'Y12', 'Y50', 'Y68', 'Y74', 'Y38', 'Y41', 'Y3', 'Y84', 'Y17', 'Y6', 'Y36', 'Y63', 'Y26', 'Y30', 'Y0', 'Y88', 'Y76', 'Y94', 'Y83', 'Y15', 'Y31', 'Y33', 'Y72', 'Y60', 'Y8', 'Y14', 'Y99', 'Y25', 'Y81', 'Y75', 'Y69', 'Y42', 'Y22', 'Y51', 'Y2', 'Y61', 'Y45', 'Y7', 'Y49', 'Y82', 'Y28', 'Y37', 'Y23', 'Y27', 'Y67', 'Y78', 'Y11', 'Y64', 'Y95', 'Y43', 'Y58', 'Y20'}\n"
     ]
    }
   ],
   "source": [
    "listaeta = list(set(data[\"ETA1\"].values)))"
   ]
  },
  {
   "cell_type": "code",
   "execution_count": 8,
   "metadata": {},
   "outputs": [
    {
     "name": "stdout",
     "output_type": "stream",
     "text": [
      "Index(['ITTER107', 'Territorio', 'TIPO_DATO15',\n",
      "       'Tipo di indicatore demografico', 'SEXISTAT1', 'Sesso', 'ETA1', 'Età',\n",
      "       'STATCIV2', 'Stato civile', 'TIME', 'Seleziona periodo', 'Value',\n",
      "       'Flag Codes', 'Flags'],\n",
      "      dtype='object')\n"
     ]
    }
   ],
   "source": [
    "print(data.columns)"
   ]
  },
  {
   "cell_type": "code",
   "execution_count": 9,
   "metadata": {},
   "outputs": [],
   "source": [
    "torino = data[data[\"Territorio\"] == \"Torino\"]"
   ]
  },
  {
   "cell_type": "code",
   "execution_count": 18,
   "metadata": {},
   "outputs": [
    {
     "name": "stdout",
     "output_type": "stream",
     "text": [
      "        ITTER107 Territorio TIPO_DATO15 Tipo di indicatore demografico  \\\n",
      "5459567   001272     Torino         JAN      popolazione al 1º gennaio   \n",
      "5459572   001272     Torino         JAN      popolazione al 1º gennaio   \n",
      "5459577   001272     Torino         JAN      popolazione al 1º gennaio   \n",
      "5473941    ITC11     Torino         JAN      popolazione al 1º gennaio   \n",
      "5473946    ITC11     Torino         JAN      popolazione al 1º gennaio   \n",
      "5473951    ITC11     Torino         JAN      popolazione al 1º gennaio   \n",
      "\n",
      "         SEXISTAT1    Sesso ETA1      Età  STATCIV2 Stato civile  TIME  \\\n",
      "5459567          1   maschi  Y57  57 anni        99       totale  2020   \n",
      "5459572          2  femmine  Y57  57 anni        99       totale  2020   \n",
      "5459577          9   totale  Y57  57 anni        99       totale  2020   \n",
      "5473941          1   maschi  Y57  57 anni        99       totale  2020   \n",
      "5473946          2  femmine  Y57  57 anni        99       totale  2020   \n",
      "5473951          9   totale  Y57  57 anni        99       totale  2020   \n",
      "\n",
      "         Seleziona periodo    Value Flag Codes Flags  \n",
      "5459567               2020   5828.0        NaN   NaN  \n",
      "5459572               2020   6448.0        NaN   NaN  \n",
      "5459577               2020  12276.0        NaN   NaN  \n",
      "5473941               2020  15744.0        NaN   NaN  \n",
      "5473946               2020  17142.0        NaN   NaN  \n",
      "5473951               2020  32886.0        NaN   NaN  \n"
     ]
    }
   ],
   "source": [
    "torino57 = torino[torino[\"ETA1\"] == \"Y57\"]\n",
    "torinoTOTAL = torino[torino[\"ETA1\"] == \"TOTAL\"]\n",
    "print(torino57[torino57[\"Stato civile\"] == \"totale\"])"
   ]
  },
  {
   "cell_type": "code",
   "execution_count": 20,
   "metadata": {},
   "outputs": [
    {
     "name": "stdout",
     "output_type": "stream",
     "text": [
      "         ITTER107 Territorio TIPO_DATO15 Tipo di indicatore demografico  \\\n",
      "10597929    ITC11     Torino         JAN      popolazione al 1º gennaio   \n",
      "10597934    ITC11     Torino         JAN      popolazione al 1º gennaio   \n",
      "10597939    ITC11     Torino         JAN      popolazione al 1º gennaio   \n",
      "10599870   001272     Torino         JAN      popolazione al 1º gennaio   \n",
      "10599874   001272     Torino         JAN      popolazione al 1º gennaio   \n",
      "10613632   001272     Torino         JAN      popolazione al 1º gennaio   \n",
      "\n",
      "          SEXISTAT1    Sesso   ETA1     Età  STATCIV2 Stato civile  TIME  \\\n",
      "10597929          1   maschi  TOTAL  totale        99       totale  2020   \n",
      "10597934          2  femmine  TOTAL  totale        99       totale  2020   \n",
      "10597939          9   totale  TOTAL  totale        99       totale  2020   \n",
      "10599870          1   maschi  TOTAL  totale        99       totale  2020   \n",
      "10599874          9   totale  TOTAL  totale        99       totale  2020   \n",
      "10613632          2  femmine  TOTAL  totale        99       totale  2020   \n",
      "\n",
      "          Seleziona periodo      Value Flag Codes Flags  \n",
      "10597929               2020  1079491.0        NaN   NaN  \n",
      "10597934               2020  1151455.0        NaN   NaN  \n",
      "10597939               2020  2230946.0        NaN   NaN  \n",
      "10599870               2020   409442.0        NaN   NaN  \n",
      "10599874               2020   857910.0        NaN   NaN  \n",
      "10613632               2020   448468.0        NaN   NaN  \n"
     ]
    }
   ],
   "source": [
    "print(torinoTOTAL[torinoTOTAL[\"Stato civile\"] == \"totale\"])"
   ]
  },
  {
   "cell_type": "code",
   "execution_count": null,
   "metadata": {},
   "outputs": [],
   "source": [
    "#value from paper 2259523"
   ]
  }
 ],
 "metadata": {
  "kernelspec": {
   "display_name": "Python 3",
   "language": "python",
   "name": "python3"
  },
  "language_info": {
   "codemirror_mode": {
    "name": "ipython",
    "version": 3
   },
   "file_extension": ".py",
   "mimetype": "text/x-python",
   "name": "python",
   "nbconvert_exporter": "python",
   "pygments_lexer": "ipython3",
   "version": "3.6.9"
  }
 },
 "nbformat": 4,
 "nbformat_minor": 2
}
