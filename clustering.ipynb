{
 "cells": [
  {
   "cell_type": "code",
   "execution_count": 8,
   "metadata": {},
   "outputs": [
    {
     "name": "stdout",
     "output_type": "stream",
     "text": [
      "Index(['idStudy', 'idIstat', 'Province', 'itCode', 'Exceedances',\n",
      "       'StationsNum', 'Cases', 'Population', 'Density', 'Long', 'Lat', 'Where',\n",
      "       'Commuters', 'CommutersDensity', 'ExcedRatio25'],\n",
      "      dtype='object')\n"
     ]
    }
   ],
   "source": [
    "import pandas as pd\n",
    "import numpy as np\n",
    "import matplotlib.pyplot as plt\n",
    "from kneed import KneeLocator\n",
    "from sklearn.datasets import make_blobs\n",
    "from sklearn.cluster import KMeans\n",
    "from sklearn.metrics import silhouette_score\n",
    "from sklearn.preprocessing import StandardScaler\n",
    "\n",
    "df = pd.read_csv(\"./data/particulate.csv\", sep=\";\")\n",
    "print(df.columns)\n"
   ]
  },
  {
   "cell_type": "code",
   "execution_count": 17,
   "metadata": {},
   "outputs": [
    {
     "name": "stderr",
     "output_type": "stream",
     "text": [
      "/usr/lib/python3/dist-packages/sklearn/utils/validation.py:475: DataConversionWarning: Data with input dtype int64 was converted to float64 by StandardScaler.\n",
      "  warnings.warn(msg, DataConversionWarning)\n"
     ]
    }
   ],
   "source": [
    "population = df[\"Population\"].values\n",
    "commutersdensity = df[\"CommutersDensity\"].values\n",
    "density = df[\"Density\"].values\n",
    "\n",
    "features = np.stack((population, commutersdensity, density), axis=1)\n",
    "scaler = StandardScaler()\n",
    "scaled_features = scaler.fit_transform(features)\n"
   ]
  },
  {
   "cell_type": "code",
   "execution_count": 18,
   "metadata": {},
   "outputs": [
    {
     "data": {
      "image/png": "[encoded data removed]",
      "text/plain": [
       "<matplotlib.figure.Figure at 0x7ffb880c20f0>"
      ]
     },
     "metadata": {},
     "output_type": "display_data"
    }
   ],
   "source": [
    "kmeans_kwargs = {\n",
    "    \"init\": \"random\",\n",
    "    \"n_init\": 10,\n",
    "    \"max_iter\": 300,\n",
    "    \"random_state\": 42}\n",
    "\n",
    "sse = []\n",
    "\n",
    "for k in range(1, 11):\n",
    "    kmeans = KMeans(n_clusters=k, **kmeans_kwargs)\n",
    "    kmeans.fit(scaled_features)\n",
    "    sse.append(kmeans.inertia_)\n",
    "\n",
    "plt.style.use(\"fivethirtyeight\")\n",
    "plt.plot(range(1, 11), sse)\n",
    "plt.xticks(range(1, 11))\n",
    "plt.xlabel(\"Number of Clusters\")\n",
    "plt.ylabel(\"SSE\")\n",
    "plt.show()"
   ]
  },
  {
   "cell_type": "code",
   "execution_count": 20,
   "metadata": {},
   "outputs": [
    {
     "name": "stdout",
     "output_type": "stream",
     "text": [
      "3\n"
     ]
    }
   ],
   "source": [
    "kl = KneeLocator(\n",
    "    range(1, 11), sse, curve=\"convex\", direction=\"decreasing\")\n",
    "\n",
    "print(kl.elbow)"
   ]
  },
  {
   "cell_type": "code",
   "execution_count": 29,
   "metadata": {},
   "outputs": [
    {
     "name": "stdout",
     "output_type": "stream",
     "text": [
      "0 Agrigento south 434870\n",
      "0 Laquila south 299031\n",
      "0 Avellino south 418306\n",
      "0 Bari south 1251994\n",
      "0 Benevento south 277018\n",
      "0 Brindisi south 392975\n",
      "0 BarlettaAndriaTrani south 390011\n",
      "0 Campobasso south 221238\n",
      "0 Caserta south 922965\n",
      "0 Chieti south 385588\n",
      "0 CarboniaIglesias south 127133\n",
      "0 Caltanissetta south 262458\n",
      "0 Cosenza south 705753\n",
      "0 Catania south 1107702\n",
      "0 Catanzaro south 358316\n",
      "0 Enna south 164788\n",
      "0 Foggia south 622183\n",
      "0 Frosinone south 489083\n",
      "0 Grosseto south 221629\n",
      "0 Imperia south 213840\n",
      "0 Isernia south 84379\n",
      "0 Crotone south 174980\n",
      "0 Lecce south 795134\n",
      "0 Latina south 575254\n",
      "0 Messina south 626876\n",
      "0 MassaCarrara south 194878\n",
      "0 Matera south 197909\n",
      "0 Nuoro south 208550\n",
      "0 Oristano south 157707\n",
      "0 OlbiaTempio south 160368\n",
      "0 Palermo south 1252588\n",
      "0 Pescara south 318909\n",
      "0 Potenza south 364960\n",
      "0 ReggioCalabria south 548009\n",
      "0 Ragusa south 320893\n",
      "0 Rieti south 155503\n",
      "0 Salerno south 1098513\n",
      "0 LaSpezia south 219556\n",
      "0 Siracusa south 399224\n",
      "0 Sassari south 491571\n",
      "0 Savona south 276064\n",
      "0 Taranto south 576756\n",
      "0 Teramo south 308052\n",
      "0 Trapani south 430492\n",
      "0 Terni south 225633\n",
      "0 MedioCampidano south 99422\n",
      "0 Viterbo south 317030\n",
      "0 ViboValentia south 160073\n",
      "1 MonzaBrianza north 873935\n",
      "1 Milano north 3250315\n",
      "1 Napoli south 3084890\n",
      "1 Roma south 4342212\n",
      "2 Alessandria north 421284\n",
      "2 Ancona south 471228\n",
      "2 Aosta north 125666\n",
      "2 AscoliPiceno south 207179\n",
      "2 Arezzo south 342654\n",
      "2 Asti north 214638\n",
      "2 Bergamo north 1114590\n",
      "2 Biella north 175585\n",
      "2 Belluno north 202950\n",
      "2 Bologna north 1014619\n",
      "2 Brescia north 1265954\n",
      "2 BolzanoBozen north 531178\n",
      "2 Cagliari south 431038\n",
      "2 Cuneo north 587098\n",
      "2 Como north 599204\n",
      "2 Cremona north 358955\n",
      "2 ForliCesena north 394627\n",
      "2 Ferrara north 345691\n",
      "2 Firenze south 1011349\n",
      "2 Fermo south 173800\n",
      "2 Genova south 841180\n",
      "2 Gorizia north 139403\n",
      "2 Lecco north 337380\n",
      "2 Livorno south 334832\n",
      "2 Lodi north 230198\n",
      "2 Lucca south 387876\n",
      "2 Macerata south 314178\n",
      "2 Mantova north 412292\n",
      "2 Modena north 705393\n",
      "2 Novara north 369018\n",
      "2 Ogliastra south 56362\n",
      "2 Piacenza north 287152\n",
      "2 Padova north 937908\n",
      "2 Perugia south 656382\n",
      "2 Pisa south 419037\n",
      "2 Pordenone north 312533\n",
      "2 Prato south 257716\n",
      "2 Parma north 451631\n",
      "2 Pistoia south 292473\n",
      "2 PesaroUrbino south 358886\n",
      "2 Pavia north 545888\n",
      "2 Ravenna north 389456\n",
      "2 ReggioEmilia north 531891\n",
      "2 Rimini north 339017\n",
      "2 Rovigo north 234937\n",
      "2 Siena south 267197\n",
      "2 Sondrio north 181095\n",
      "2 Trento north 541098\n",
      "2 Torino north 2259523\n",
      "2 Trieste north 234493\n",
      "2 Treviso north 887806\n",
      "2 Udine north 528791\n",
      "2 Varese north 890768\n",
      "2 VerbanoCusioOssola north 158349\n",
      "2 Vercelli north 170911\n",
      "2 Venezia north 853338\n",
      "2 Vicenza north 862418\n",
      "2 Verona north 926497\n"
     ]
    }
   ],
   "source": [
    "kmeans = KMeans(n_clusters=3, **kmeans_kwargs)\n",
    "kmeans.fit(scaled_features)\n",
    "\n",
    "cities = df[\"Province\"].values\n",
    "where = df[\"Where\"].values\n",
    "population = df[\"Population\"].values\n",
    "\n",
    "for i, clusterid in enumerate(kmeans.labels_):\n",
    "    if clusterid == 0:\n",
    "        print(clusterid, cities[i], where[i], population[i])\n",
    "\n",
    "for i, clusterid in enumerate(kmeans.labels_):\n",
    "    if clusterid == 1:\n",
    "        print(clusterid, cities[i], where[i], population[i])\n",
    "\n",
    "for i, clusterid in enumerate(kmeans.labels_):\n",
    "    if clusterid == 2:\n",
    "        print(clusterid, cities[i], where[i], population[i])"
   ]
  }
 ],
 "metadata": {
  "kernelspec": {
   "display_name": "Python 3.6.9 64-bit",
   "language": "python",
   "name": "python3"
  },
  "language_info": {
   "codemirror_mode": {
    "name": "ipython",
    "version": 3
   },
   "file_extension": ".py",
   "mimetype": "text/x-python",
   "name": "python",
   "nbconvert_exporter": "python",
   "pygments_lexer": "ipython3",
   "version": "3.6.9"
  },
  "orig_nbformat": 4,
  "vscode": {
   "interpreter": {
    "hash": "31f2aee4e71d21fbe5cf8b01ff0e069b9275f58929596ceb00d14d90e3e16cd6"
   }
  }
 },
 "nbformat": 4,
 "nbformat_minor": 2
}
