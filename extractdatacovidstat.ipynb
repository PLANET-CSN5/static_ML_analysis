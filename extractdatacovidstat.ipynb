{
 "cells": [
  {
   "cell_type": "code",
   "execution_count": 2,
   "metadata": {},
   "outputs": [
    {
     "name": "stdout",
     "output_type": "stream",
     "text": [
      "Index(['Unnamed: 0', 'index', 'data', 'stato', 'codice_regione',\n",
      "       'denominazione_regione', 'codice_provincia', 'denominazione_provincia',\n",
      "       'sigla_provincia', 'lat', 'long', 'totale_casi', 'note',\n",
      "       'codice_nuts_1', 'codice_nuts_2', 'codice_nuts_3',\n",
      "       'totale_casi_giornalieri', 'totale_casi_giornalieri_1w',\n",
      "       'totale_casi_giornalieri_somma1w', 'totale_casi_rel',\n",
      "       'totale_casi_giornalieri_rel', 'totale_casi_giornalieri_1w_rel',\n",
      "       'totale_casi_giornalieri_somma1w_rel', 'totale_casi_log',\n",
      "       'totale_casi_gr_rate', 'totale_casi_gr_rate_err', 'rt', 'rt_err',\n",
      "       'rt_err_stat', 'rt_hi68', 'rt_lo68', 'rt_hi95', 'rt_lo95',\n",
      "       'rt_lo95stat', 'rt_hi95stat'],\n",
      "      dtype='object')\n",
      "Index(['idStudy', 'idIstat', 'Province', 'itCode', 'Exceedances',\n",
      "       'StationsNum', 'Cases', 'Population', 'Density', 'Long', 'Lat', 'Where',\n",
      "       'Commuters', 'CommutersDensity', 'ExcedRatio25'],\n",
      "      dtype='object')\n"
     ]
    },
    {
     "name": "stderr",
     "output_type": "stream",
     "text": [
      "/usr/lib/python3/dist-packages/IPython/core/interactiveshell.py:3062: DtypeWarning: Columns (12) have mixed types.Specify dtype option on import or set low_memory=False.\n",
      "  has_raised = await self.run_ast_nodes(code_ast.body, cell_name,\n"
     ]
    }
   ],
   "source": [
    "import pandas as pd\n",
    "\n",
    "__provmaps__ = {\n",
    "    \"bolzano_bozen\": \"bolzano\",\n",
    "    \"bolzanobozen\": \"bolzano\",\n",
    "    \"vibovalentia\": \"vibo_valentia\",\n",
    "    \"laquila\": \"l_aquila\",\n",
    "    \"laspezia\": \"la_spezia\",\n",
    "    \"barlettaandriatrani\": \"bat\",\n",
    "    \"ascolipiceno\": \"ascoli_piceno\",\n",
    "    \"carboniaiglesias\": \"carbonia\",\n",
    "    \"reggioemilia\": \"reggio_nell_emilia\",\n",
    "    \"pesarourbino\": \"pesaro\",\n",
    "    \"monzabrianza\": \"monza\",\n",
    "    \"reggiocalabria\": \"reggio_di_calabria\",\n",
    "    \"forlicesena\": \"forli\",\n",
    "    \"massacarrara\": \"massa\",\n",
    "    \"verbanocusioossola\": \"verbania\",\n",
    "    \"verbano_cusio_ossola\": \"verbania\",\n",
    "    \"massa_carrara\": \"massa\",\n",
    "    \"monza_e_della_brianza\": \"monza\",\n",
    "    \"pesaro_e_urbino\": \"pesaro\",\n",
    "    \"forli__cesena\": \"forli\",\n",
    "    \"bolzano_/_bozen\": \"bolzano\",\n",
    "    \"barletta_andria_trani\": \"bat\",\n",
    "    \"sud_sardegna\": \"carbonia\",\n",
    "    \"forlì_cesena\": \"forli\"\n",
    "}\n",
    "\n",
    "######################################################################33\n",
    "\n",
    "def filterprovname (inprov):\n",
    "    low = inprov.lower()\n",
    "    low = low.rstrip()\n",
    "    low = low.lstrip()\n",
    "    low = low.replace(\" \", \"_\")\n",
    "    low = low.replace(\"'\", \"_\")\n",
    "    low = low.replace(\"-\", \"_\")\n",
    "\n",
    "    return low\n",
    "    \n",
    "######################################################################33\n",
    "\n",
    "def normalize_provname (indata, provcolumn, verbose):\n",
    "\n",
    "    dict_data = {}  \n",
    "    for c in indata.columns:\n",
    "        if verbose:\n",
    "            print(\"  \", c)\n",
    "        if c != provcolumn:\n",
    "            dict_data[c] = []\n",
    "    dict_data[\"prov\"] = []\n",
    "\n",
    "    for i, row in indata.iterrows():\n",
    "        for c in indata.columns:    \n",
    "            if c != provcolumn:\n",
    "                dict_data[c].append(row[c])\n",
    "            else:\n",
    "                low = filterprovname(row[c])\n",
    "                if low in __provmaps__:\n",
    "                    low = __provmaps__[low]\n",
    "\n",
    "                dict_data[\"prov\"].append(low)\n",
    "\n",
    "    #for v in dict_data:\n",
    "    #    print(v, \" \", len(dict_data[v]))\n",
    "\n",
    "    data = pd.DataFrame.from_dict(dict_data)\n",
    "\n",
    "    return data\n",
    "\n",
    "######################################################################\n",
    "\n",
    "covidstat = pd.read_csv(\"./data/province_covidstat.csv\")\n",
    "datapaper = pd.read_csv(\"./data/particulate.csv\", sep=\";\")\n",
    "\n",
    "print(covidstat.columns)\n",
    "print(datapaper.columns)"
   ]
  },
  {
   "cell_type": "code",
   "execution_count": 3,
   "metadata": {},
   "outputs": [
    {
     "name": "stdout",
     "output_type": "stream",
     "text": [
      "{'Vibo Valentia', \"L'Aquila\", 'Ascoli Piceno', 'Barletta-Andria-Trani', 'Forlì-Cesena', 'Massa Carrara', 'Sud Sardegna', \"Reggio nell'Emilia\", 'Verbano-Cusio-Ossola', 'Reggio di Calabria', 'La Spezia', 'Pesaro e Urbino', 'Monza e della Brianza', 'Bolzano'}\n",
      "{'mediocampidano', 'ogliastra', 'olbiatempio'}\n"
     ]
    }
   ],
   "source": [
    "province_covidstat = set(covidstat[\"denominazione_provincia\"].values)\n",
    "province_datapaper = set(datapaper[\"Province\"].values)\n",
    "\n",
    "print(province_covidstat - province_datapaper)\n",
    "\n",
    "new_covidstat = normalize_provname (covidstat, \"denominazione_provincia\", False)\n",
    "new_datapaper = normalize_provname (datapaper, \"Province\", False)\n",
    "\n",
    "new_province_covidstat = set(new_covidstat[\"prov\"].values)\n",
    "new_province_datapaper = set(new_datapaper[\"prov\"].values)\n",
    "\n",
    "print(new_province_datapaper - new_province_covidstat)"
   ]
  },
  {
   "cell_type": "code",
   "execution_count": 19,
   "metadata": {},
   "outputs": [
    {
     "ename": "ValueError",
     "evalue": "time data '2020-02-24' does not match format '%y-%m-%d'",
     "output_type": "error",
     "traceback": [
      "\u001b[0;31m---------------------------------------------------------------------------\u001b[0m",
      "\u001b[0;31mValueError\u001b[0m                                Traceback (most recent call last)",
      "\u001b[0;32m<ipython-input-19-27c0c106c52e>\u001b[0m in \u001b[0;36m<module>\u001b[0;34m\u001b[0m\n\u001b[1;32m      8\u001b[0m         \u001b[0mdati\u001b[0m \u001b[0;34m=\u001b[0m \u001b[0mrow\u001b[0m\u001b[0;34m[\u001b[0m\u001b[0;36m1\u001b[0m\u001b[0;34m]\u001b[0m\u001b[0;34m\u001b[0m\u001b[0;34m\u001b[0m\u001b[0m\n\u001b[1;32m      9\u001b[0m         \u001b[0mdata\u001b[0m\u001b[0;34m,\u001b[0m \u001b[0mhour\u001b[0m \u001b[0;34m=\u001b[0m \u001b[0mdati\u001b[0m\u001b[0;34m[\u001b[0m\u001b[0;34m\"data\"\u001b[0m\u001b[0;34m]\u001b[0m\u001b[0;34m.\u001b[0m\u001b[0msplit\u001b[0m\u001b[0;34m(\u001b[0m\u001b[0;34m\"T\"\u001b[0m\u001b[0;34m)\u001b[0m\u001b[0;34m\u001b[0m\u001b[0;34m\u001b[0m\u001b[0m\n\u001b[0;32m---> 10\u001b[0;31m         \u001b[0mdate_time_obj\u001b[0m \u001b[0;34m=\u001b[0m \u001b[0mdatetime\u001b[0m\u001b[0;34m.\u001b[0m\u001b[0mstrptime\u001b[0m\u001b[0;34m(\u001b[0m\u001b[0mdata\u001b[0m\u001b[0;34m,\u001b[0m \u001b[0;34m'%y-%m-%d'\u001b[0m\u001b[0;34m)\u001b[0m\u001b[0;34m\u001b[0m\u001b[0;34m\u001b[0m\u001b[0m\n\u001b[0m\u001b[1;32m     11\u001b[0m         \u001b[0mprint\u001b[0m\u001b[0;34m(\u001b[0m\u001b[0mdate_time_obj\u001b[0m\u001b[0;34m)\u001b[0m\u001b[0;34m\u001b[0m\u001b[0;34m\u001b[0m\u001b[0m\n\u001b[1;32m     12\u001b[0m \u001b[0;34m\u001b[0m\u001b[0m\n",
      "\u001b[0;32m/usr/lib/python3.8/_strptime.py\u001b[0m in \u001b[0;36m_strptime_datetime\u001b[0;34m(cls, data_string, format)\u001b[0m\n\u001b[1;32m    566\u001b[0m     \"\"\"Return a class cls instance based on the input string and the\n\u001b[1;32m    567\u001b[0m     format string.\"\"\"\n\u001b[0;32m--> 568\u001b[0;31m     \u001b[0mtt\u001b[0m\u001b[0;34m,\u001b[0m \u001b[0mfraction\u001b[0m\u001b[0;34m,\u001b[0m \u001b[0mgmtoff_fraction\u001b[0m \u001b[0;34m=\u001b[0m \u001b[0m_strptime\u001b[0m\u001b[0;34m(\u001b[0m\u001b[0mdata_string\u001b[0m\u001b[0;34m,\u001b[0m \u001b[0mformat\u001b[0m\u001b[0;34m)\u001b[0m\u001b[0;34m\u001b[0m\u001b[0;34m\u001b[0m\u001b[0m\n\u001b[0m\u001b[1;32m    569\u001b[0m     \u001b[0mtzname\u001b[0m\u001b[0;34m,\u001b[0m \u001b[0mgmtoff\u001b[0m \u001b[0;34m=\u001b[0m \u001b[0mtt\u001b[0m\u001b[0;34m[\u001b[0m\u001b[0;34m-\u001b[0m\u001b[0;36m2\u001b[0m\u001b[0;34m:\u001b[0m\u001b[0;34m]\u001b[0m\u001b[0;34m\u001b[0m\u001b[0;34m\u001b[0m\u001b[0m\n\u001b[1;32m    570\u001b[0m     \u001b[0margs\u001b[0m \u001b[0;34m=\u001b[0m \u001b[0mtt\u001b[0m\u001b[0;34m[\u001b[0m\u001b[0;34m:\u001b[0m\u001b[0;36m6\u001b[0m\u001b[0;34m]\u001b[0m \u001b[0;34m+\u001b[0m \u001b[0;34m(\u001b[0m\u001b[0mfraction\u001b[0m\u001b[0;34m,\u001b[0m\u001b[0;34m)\u001b[0m\u001b[0;34m\u001b[0m\u001b[0;34m\u001b[0m\u001b[0m\n",
      "\u001b[0;32m/usr/lib/python3.8/_strptime.py\u001b[0m in \u001b[0;36m_strptime\u001b[0;34m(data_string, format)\u001b[0m\n\u001b[1;32m    347\u001b[0m     \u001b[0mfound\u001b[0m \u001b[0;34m=\u001b[0m \u001b[0mformat_regex\u001b[0m\u001b[0;34m.\u001b[0m\u001b[0mmatch\u001b[0m\u001b[0;34m(\u001b[0m\u001b[0mdata_string\u001b[0m\u001b[0;34m)\u001b[0m\u001b[0;34m\u001b[0m\u001b[0;34m\u001b[0m\u001b[0m\n\u001b[1;32m    348\u001b[0m     \u001b[0;32mif\u001b[0m \u001b[0;32mnot\u001b[0m \u001b[0mfound\u001b[0m\u001b[0;34m:\u001b[0m\u001b[0;34m\u001b[0m\u001b[0;34m\u001b[0m\u001b[0m\n\u001b[0;32m--> 349\u001b[0;31m         raise ValueError(\"time data %r does not match format %r\" %\n\u001b[0m\u001b[1;32m    350\u001b[0m                          (data_string, format))\n\u001b[1;32m    351\u001b[0m     \u001b[0;32mif\u001b[0m \u001b[0mlen\u001b[0m\u001b[0;34m(\u001b[0m\u001b[0mdata_string\u001b[0m\u001b[0;34m)\u001b[0m \u001b[0;34m!=\u001b[0m \u001b[0mfound\u001b[0m\u001b[0;34m.\u001b[0m\u001b[0mend\u001b[0m\u001b[0;34m(\u001b[0m\u001b[0;34m)\u001b[0m\u001b[0;34m:\u001b[0m\u001b[0;34m\u001b[0m\u001b[0;34m\u001b[0m\u001b[0m\n",
      "\u001b[0;31mValueError\u001b[0m: time data '2020-02-24' does not match format '%y-%m-%d'"
     ]
    }
   ],
   "source": [
    "from datetime import datetime\n",
    "\n",
    "for prov in new_province_datapaper:\n",
    "    givenprov = new_covidstat[\\\n",
    "        new_covidstat[\"prov\"] == prov]\n",
    "\n",
    "    for row in givenprov.iterrows():\n",
    "        dati = row[1]\n",
    "        data, hour = dati[\"data\"].split(\"T\")\n",
    "        date_time_obj = datetime.strptime(data, '%y-%m-%d')\n",
    "        print(date_time_obj)\n",
    "\n",
    "        \n",
    "\n",
    "\"\"\"\n",
    "print(df.columns)\n",
    "for v in df[\"data\"].values:\n",
    "    data, hour = v.split(\"T\")\n",
    "\n",
    "    if (data == \"2020-02-24\"):\n",
    "        continue\n",
    "        #print(data, hour)\n",
    "\n",
    "given = df[df[\"sigla_provincia\"] == \"MI\"]\n",
    "\n",
    "for v in given[\"data\"].values:\n",
    "    data, hour = v.split(\":\")\n",
    "\n",
    "\"\"\"\n"
   ]
  }
 ],
 "metadata": {
  "kernelspec": {
   "display_name": "Python 3.8.10 64-bit",
   "language": "python",
   "name": "python3"
  },
  "language_info": {
   "codemirror_mode": {
    "name": "ipython",
    "version": 3
   },
   "file_extension": ".py",
   "mimetype": "text/x-python",
   "name": "python",
   "nbconvert_exporter": "python",
   "pygments_lexer": "ipython3",
   "version": "3.8.10"
  },
  "orig_nbformat": 4,
  "vscode": {
   "interpreter": {
    "hash": "31f2aee4e71d21fbe5cf8b01ff0e069b9275f58929596ceb00d14d90e3e16cd6"
   }
  }
 },
 "nbformat": 4,
 "nbformat_minor": 2
}
